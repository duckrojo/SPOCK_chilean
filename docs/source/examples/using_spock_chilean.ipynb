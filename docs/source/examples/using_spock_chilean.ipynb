{
 "cells": [
  {
   "cell_type": "markdown",
   "metadata": {},
   "source": [
    "# Using `spock_chilean`"
   ]
  },
  {
   "cell_type": "markdown",
   "metadata": {},
   "source": [
    "The next few lines are meant to show you an example of how to use ``spock_chilean``"
   ]
  },
  {
   "cell_type": "markdown",
   "metadata": {},
   "source": [
    "For each target you wish to schedule you will need to provide:\n",
    "* A name\n",
    "* RA (in degrees)\n",
    "* DEC (in gegrees)\n",
    "* the time the observations start\n",
    "* the time the observations end\n",
    "* the filter \n",
    "* the exposure time\n",
    "* the J magnitude (*optional*)\n",
    "* the spectra type (*optional*)"
   ]
  },
  {
   "cell_type": "markdown",
   "metadata": {},
   "source": [
    "## Initialisation"
   ]
  },
  {
   "cell_type": "code",
   "execution_count": 16,
   "metadata": {},
   "outputs": [],
   "source": [
    "import pandas as pd\n",
    "import SPOCK_chilean\n",
    "from SPOCK_chilean.make_night_plans import chilean_time\n",
    "import warnings\n",
    "warnings.filterwarnings('ignore')"
   ]
  },
  {
   "cell_type": "code",
   "execution_count": 17,
   "metadata": {},
   "outputs": [],
   "source": [
    "telescope = 'Ganymede' # name of telescope allocated\n",
    "date = '2021-07-08'  # start of night date\n",
    "\n",
    "\n",
    "chilean_nb_target = 2  # number of target to observe this night\n",
    "counts = 5000  # counts of images per targets (no limit = 5000)\n",
    "\n",
    "chilean_plans = chilean_time(date, telescope) # Initialize the chilean_time object\n"
   ]
  },
  {
   "cell_type": "markdown",
   "metadata": {},
   "source": [
    "## Data frame with information on targets"
   ]
  },
  {
   "cell_type": "code",
   "execution_count": 18,
   "metadata": {},
   "outputs": [
    {
     "data": {
      "text/html": [
       "<div>\n",
       "<style scoped>\n",
       "    .dataframe tbody tr th:only-of-type {\n",
       "        vertical-align: middle;\n",
       "    }\n",
       "\n",
       "    .dataframe tbody tr th {\n",
       "        vertical-align: top;\n",
       "    }\n",
       "\n",
       "    .dataframe thead th {\n",
       "        text-align: right;\n",
       "    }\n",
       "</style>\n",
       "<table border=\"1\" class=\"dataframe\">\n",
       "  <thead>\n",
       "    <tr style=\"text-align: right;\">\n",
       "      <th></th>\n",
       "      <th>Date</th>\n",
       "      <th>Telescope</th>\n",
       "      <th>Name</th>\n",
       "      <th>Start</th>\n",
       "      <th>End</th>\n",
       "      <th>RA</th>\n",
       "      <th>DEC</th>\n",
       "      <th>Filter</th>\n",
       "      <th>texp</th>\n",
       "      <th>Counts</th>\n",
       "      <th>Vmag</th>\n",
       "      <th>SpT</th>\n",
       "    </tr>\n",
       "  </thead>\n",
       "  <tbody>\n",
       "    <tr>\n",
       "      <th>0</th>\n",
       "      <td>2021-07-08</td>\n",
       "      <td>Ganymede</td>\n",
       "      <td>Ch_HATS-20</td>\n",
       "      <td>2021-07-08 22:30:00.000</td>\n",
       "      <td>2021-07-09 03:30:00.000</td>\n",
       "      <td>198.132925</td>\n",
       "      <td>-45.590566</td>\n",
       "      <td>r'</td>\n",
       "      <td>30</td>\n",
       "      <td>5000</td>\n",
       "      <td>13.77</td>\n",
       "      <td>G8</td>\n",
       "    </tr>\n",
       "    <tr>\n",
       "      <th>1</th>\n",
       "      <td>2021-07-08</td>\n",
       "      <td>Ganymede</td>\n",
       "      <td>Ch_OGLE-TR-10</td>\n",
       "      <td>2021-07-09 03:30:00.000</td>\n",
       "      <td>2021-07-09 08:15:00.000</td>\n",
       "      <td>267.867746</td>\n",
       "      <td>-29.876454</td>\n",
       "      <td>I+z</td>\n",
       "      <td>60</td>\n",
       "      <td>5000</td>\n",
       "      <td>15.78</td>\n",
       "      <td>F5</td>\n",
       "    </tr>\n",
       "  </tbody>\n",
       "</table>\n",
       "</div>"
      ],
      "text/plain": [
       "         Date Telescope           Name                    Start  \\\n",
       "0  2021-07-08  Ganymede     Ch_HATS-20  2021-07-08 22:30:00.000   \n",
       "1  2021-07-08  Ganymede  Ch_OGLE-TR-10  2021-07-09 03:30:00.000   \n",
       "\n",
       "                       End          RA        DEC Filter  texp  Counts   Vmag  \\\n",
       "0  2021-07-09 03:30:00.000  198.132925 -45.590566     r'    30    5000  13.77   \n",
       "1  2021-07-09 08:15:00.000  267.867746 -29.876454    I+z    60    5000  15.78   \n",
       "\n",
       "  SpT  \n",
       "0  G8  \n",
       "1  F5  "
      ]
     },
     "metadata": {},
     "output_type": "display_data"
    }
   ],
   "source": [
    "target_chilean = pd.DataFrame({'Date': date, 'Telescope': telescope, 'Name': 'Ch_HATS-20',\n",
    "                               'Start': '2021-07-08 22:30:00.000',\n",
    "                               'End': '2021-07-09 03:30:00.000',\n",
    "                               'RA':   198.1329246,\n",
    "                               'DEC': -45.5905664, 'Filter': 'r\\'',\n",
    "                               'texp': 30,\n",
    "                               'Counts': counts, 'Vmag': 13.77, 'SpT': 'G8'},\n",
    "                              index=[0])\n",
    "if chilean_nb_target > 1:\n",
    "    other_target = {'Date': date, 'Telescope': telescope, 'Name': 'Ch_OGLE-TR-10',\n",
    "                    'Start': '2021-07-09 03:30:00.000',\n",
    "                    'End': '2021-07-09 08:15:00.000',\n",
    "                    'RA':  267.8677458,\n",
    "                    'DEC': -29.8764535,\n",
    "                    'Filter': 'I+z',\n",
    "                    'texp': 60,\n",
    "                    'Counts': counts, 'Vmag': 15.78, 'SpT': 'F5'}\n",
    "    target_chilean = target_chilean.append(other_target, ignore_index=True, sort=False)\n",
    "\n",
    "display(target_chilean)"
   ]
  },
  {
   "cell_type": "markdown",
   "metadata": {},
   "source": [
    "## Make night_blocks"
   ]
  },
  {
   "cell_type": "code",
   "execution_count": 19,
   "metadata": {},
   "outputs": [
    {
     "name": "stdout",
     "output_type": "stream",
     "text": [
      "\u001b[32mINFO: \u001b[30mThe optimum exposure time for Ch_HATS-20 SpT G8 and V magnitude 13.77 with Filter r' is: 21.713199784582073seconds\n",
      "For texp:30, expected peak [ADU]:\t 62174.1619564794\n",
      "\u001b[33mWARNING: \u001b[30mthe target might get saturated, please decrease the exposure time.\n",
      "\u001b[32mINFO: \u001b[30mThe optimum exposure time for Ch_OGLE-TR-10 SpT F5 and V magnitude 15.78 with Filter I+z is: 114.2621923075942seconds\n",
      "For texp:60, expected peak [ADU]:\t 23629.863434893607\n",
      "\u001b[32mINFO: \u001b[30m the exposure time chosen is ok, no saturation expected.\n"
     ]
    },
    {
     "data": {
      "text/html": [
       "<i>Table length=2</i>\n",
       "<table id=\"table4911235760\" class=\"table-striped table-bordered table-condensed\">\n",
       "<thead><tr><th>target</th><th>start time (UTC)</th><th>end time (UTC)</th><th>duration (minutes)</th><th>ra (h)</th><th>ra (m)</th><th>ra (s)</th><th>dec (d)</th><th>dec (m)</th><th>dec (s)</th><th>configuration</th></tr></thead>\n",
       "<thead><tr><th>str13</th><th>str23</th><th>str23</th><th>float64</th><th>float64</th><th>float64</th><th>float64</th><th>float64</th><th>float64</th><th>float64</th><th>str27</th></tr></thead>\n",
       "<tr><td>Ch_HATS-20</td><td>2021-07-08 22:46:10.320</td><td>2021-07-09 03:30:00.000</td><td>283.8280005007982</td><td>13.0</td><td>12.0</td><td>31.90190400000745</td><td>-45.0</td><td>-35.0</td><td>-26.03904000000057</td><td>{&apos;filt&apos;: &quot;r&apos;&quot;, &apos;texp&apos;: 30}</td></tr>\n",
       "<tr><td>Ch_OGLE-TR-10</td><td>2021-07-09 03:30:00.000</td><td>2021-07-09 08:15:00.000</td><td>284.9999997764826</td><td>17.0</td><td>51.0</td><td>28.258992000015724</td><td>-29.0</td><td>-52.0</td><td>-35.23260000000079</td><td>{&apos;filt&apos;: &apos;I+z&apos;, &apos;texp&apos;: 60}</td></tr>\n",
       "</table>"
      ],
      "text/plain": [
       "<Table length=2>\n",
       "    target        start time (UTC)    ...        configuration       \n",
       "    str13              str23          ...            str27           \n",
       "------------- ----------------------- ... ---------------------------\n",
       "   Ch_HATS-20 2021-07-08 22:46:10.320 ...  {'filt': \"r'\", 'texp': 30}\n",
       "Ch_OGLE-TR-10 2021-07-09 03:30:00.000 ... {'filt': 'I+z', 'texp': 60}"
      ]
     },
     "execution_count": 19,
     "metadata": {},
     "output_type": "execute_result"
    }
   ],
   "source": [
    "chilean_plans.make_night_block(target_chilean)\n",
    "SPOCK_chilean.read_night_block(telescope, date)"
   ]
  },
  {
   "cell_type": "markdown",
   "metadata": {},
   "source": [
    "## Check night_blocks respect SPECULOOS constraints"
   ]
  },
  {
   "cell_type": "code",
   "execution_count": 20,
   "metadata": {},
   "outputs": [
    {
     "name": "stdout",
     "output_type": "stream",
     "text": [
      "\u001b[32mINFO: \u001b[30mOK, filter chosen for Ch_HATS-20 is in the list\n",
      "\u001b[32mINFO: \u001b[30mOK, exposure time chosen for Ch_HATS-20 is >10s\n",
      "\u001b[32mINFO: \u001b[30mOK, field Ch_HATS-20 respects the elevation constraint\n",
      "\u001b[32mINFO: \u001b[30mOK, field Ch_HATS-20 respects the moon constraint\n",
      "\u001b[32mINFO: \u001b[30mOk, field Ch_HATS-20 is scheduled for more than 15 min\n",
      "\u001b[32mINFO: \u001b[30mOK, field Ch_HATS-20 does not contain a SPECULOOS target\n",
      "\u001b[32mINFO: \u001b[30mCheck completed, for Ch_HATS-20, you can send the night_blocks to educrot@uliege.be or to GXG831@student.bham.ac.uk. \n",
      "\u001b[32mINFO: \u001b[30mOK, filter chosen for Ch_OGLE-TR-10 is in the list\n",
      "\u001b[32mINFO: \u001b[30mOK, exposure time chosen for Ch_OGLE-TR-10 is >10s\n",
      "\u001b[32mINFO: \u001b[30mOK, field Ch_OGLE-TR-10 respects the elevation constraint\n",
      "\u001b[32mINFO: \u001b[30mOK, field Ch_OGLE-TR-10 respects the moon constraint\n",
      "\u001b[32mINFO: \u001b[30mOk, field Ch_OGLE-TR-10 is scheduled for more than 15 min\n",
      "\u001b[32mINFO: \u001b[30mOK, field Ch_OGLE-TR-10 does not contain a SPECULOOS target\n",
      "\u001b[32mINFO: \u001b[30mCheck completed, for Ch_OGLE-TR-10, you can send the night_blocks to educrot@uliege.be or to GXG831@student.bham.ac.uk. \n"
     ]
    },
    {
     "data": {
      "text/plain": [
       "True"
      ]
     },
     "execution_count": 20,
     "metadata": {},
     "output_type": "execute_result"
    }
   ],
   "source": [
    "chilean_plans.check_night_blocks()"
   ]
  },
  {
   "cell_type": "code",
   "execution_count": null,
   "metadata": {},
   "outputs": [],
   "source": []
  }
 ],
 "metadata": {
  "kernelspec": {
   "display_name": "Python 3",
   "language": "python",
   "name": "python3"
  },
  "language_info": {
   "codemirror_mode": {
    "name": "ipython",
    "version": 3
   },
   "file_extension": ".py",
   "mimetype": "text/x-python",
   "name": "python",
   "nbconvert_exporter": "python",
   "pygments_lexer": "ipython3",
   "version": "3.7.0"
  }
 },
 "nbformat": 4,
 "nbformat_minor": 4
}
