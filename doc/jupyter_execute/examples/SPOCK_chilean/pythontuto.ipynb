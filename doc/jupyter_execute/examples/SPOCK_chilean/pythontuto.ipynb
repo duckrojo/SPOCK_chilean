{
 "cells": [
  {
   "cell_type": "code",
   "execution_count": 1,
   "metadata": {},
   "outputs": [
    {
     "name": "stdout",
     "output_type": "stream",
     "text": [
      "INFO: File for date 2020-05-26 exists, overwriting\n"
     ]
    },
    {
     "name": "stdout",
     "output_type": "stream",
     "text": [
      "INFO: OK, filter chosen for Ch_1 is in the list\n",
      "INFO: OK, exposure time chosen for Ch_1 is >10s\n",
      "INFO: OK, field Ch_1 respects the elevation constraint\n",
      "INFO: OK, field Ch_1 respects the moon constraint\n",
      "INFO: Ok, field Ch_1 is scheduled for more than 15 min\n"
     ]
    },
    {
     "name": "stdout",
     "output_type": "stream",
     "text": [
      "INFO: OK, field Ch_1 does not contain a SPECULOOS target\n",
      "INFO: Check completed, plans are OK\n"
     ]
    }
   ],
   "source": [
    "import ipywidgets as w\n",
    "from IPython.display import display\n",
    "import pandas as pd\n",
    "from SPOCK_chilean.make_night_plans import chilean_time\n",
    "\n",
    "# set in advance with the planning with SSO team\n",
    "telescope = 'Ganymede'\n",
    "\n",
    "date = '2020-05-26' # start of night date\n",
    "chilean_nb_target = 1 # number of target to observe this night\n",
    "counts = 5000 #counts of images per targets (no limit = 5000)\n",
    "chilean_plans = chilean_time('2020-05-26')\n",
    "target_chilean = pd.DataFrame({'Date': date, 'Telescope': telescope, 'Name': 'Ch_1',\n",
    "                               'Start': '2020-05-27 00:30:00.000', 'End': '2020-05-27 03:00:00.000',\n",
    "                               'RA': 181.8609974 , \\\n",
    "                               'DEC': -52.7885865, 'Filter': 'I+z',\n",
    "                               'texp': 20, \\\n",
    "                               'Counts': counts, '#target': 1,'Gaia_ID':'gaia_id','Jmag':11.8,'SpT':'M4'},\n",
    "                              index=[0])\n",
    "\n",
    "chilean_plans.make_plans(target_chilean)\n",
    "\n",
    "chilean_plans.check_plans()"
   ]
  }
 ],
 "metadata": {
  "kernelspec": {
   "display_name": "Python 3",
   "language": "python",
   "name": "python3"
  },
  "language_info": {
   "codemirror_mode": {
    "name": "ipython",
    "version": 3
   },
   "file_extension": ".py",
   "mimetype": "text/x-python",
   "name": "python",
   "nbconvert_exporter": "python",
   "pygments_lexer": "ipython3",
   "version": "3.7.4"
  }
 },
 "nbformat": 4,
 "nbformat_minor": 4
}