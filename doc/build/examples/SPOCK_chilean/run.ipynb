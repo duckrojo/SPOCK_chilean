{
 "cells": [
  {
   "cell_type": "code",
   "execution_count": 10,
   "metadata": {},
   "outputs": [
    {
     "data": {
      "text/html": [
       "<div>\n",
       "<style scoped>\n",
       "    .dataframe tbody tr th:only-of-type {\n",
       "        vertical-align: middle;\n",
       "    }\n",
       "\n",
       "    .dataframe tbody tr th {\n",
       "        vertical-align: top;\n",
       "    }\n",
       "\n",
       "    .dataframe thead th {\n",
       "        text-align: right;\n",
       "    }\n",
       "</style>\n",
       "<table border=\"1\" class=\"dataframe\">\n",
       "  <thead>\n",
       "    <tr style=\"text-align: right;\">\n",
       "      <th></th>\n",
       "      <th>Date</th>\n",
       "      <th>Telescope</th>\n",
       "      <th>Name</th>\n",
       "      <th>Start</th>\n",
       "      <th>End</th>\n",
       "      <th>RA</th>\n",
       "      <th>DEC</th>\n",
       "      <th>Filter</th>\n",
       "      <th>texp</th>\n",
       "      <th>Counts</th>\n",
       "      <th>#target</th>\n",
       "      <th>Gaia_ID</th>\n",
       "      <th>Jmag</th>\n",
       "      <th>SpT</th>\n",
       "    </tr>\n",
       "  </thead>\n",
       "  <tbody>\n",
       "    <tr>\n",
       "      <th>0</th>\n",
       "      <td>2020-05-26</td>\n",
       "      <td>Ganymede</td>\n",
       "      <td>Ch_1</td>\n",
       "      <td>2020-05-27 00:30:00.000</td>\n",
       "      <td>2020-05-27 03:00:00.000</td>\n",
       "      <td>181.860997</td>\n",
       "      <td>-52.788587</td>\n",
       "      <td>I+z</td>\n",
       "      <td>20</td>\n",
       "      <td>5000</td>\n",
       "      <td>1</td>\n",
       "      <td>gaia_id</td>\n",
       "      <td>11.8</td>\n",
       "      <td>M4</td>\n",
       "    </tr>\n",
       "  </tbody>\n",
       "</table>\n",
       "</div>"
      ],
      "text/plain": [
       "         Date Telescope  Name                    Start  \\\n",
       "0  2020-05-26  Ganymede  Ch_1  2020-05-27 00:30:00.000   \n",
       "\n",
       "                       End          RA        DEC Filter  texp  Counts  \\\n",
       "0  2020-05-27 03:00:00.000  181.860997 -52.788587    I+z    20    5000   \n",
       "\n",
       "   #target  Gaia_ID  Jmag SpT  \n",
       "0        1  gaia_id  11.8  M4  "
      ]
     },
     "metadata": {},
     "output_type": "display_data"
    }
   ],
   "source": [
    "import pandas as pd\n",
    "from SPOCK_chilean_nights.make_night_plans import chilean_time\n",
    "\n",
    "# set in advance with the planning with SSO team\n",
    "telescope = 'Ganymede'\n",
    "\n",
    "date = '2020-05-26' # start of night date\n",
    "chilean_nb_target = 1 # number of target to observe this night\n",
    "counts = 5000 #counts of images per targets (no limit = 5000)\n",
    "chilean_plans = chilean_time('2020-05-26')\n",
    "\n",
    "target_chilean = pd.DataFrame({'Date': date, 'Telescope': telescope, 'Name': 'Ch_1',\n",
    "                               'Start': '2020-05-27 00:30:00.000', 'End': '2020-05-27 03:00:00.000',\n",
    "                               'RA': 181.8609974 , \\\n",
    "                               'DEC': -52.7885865, 'Filter': 'I+z',\n",
    "                               'texp': 20, \\\n",
    "                               'Counts': counts, '#target': 1,'Gaia_ID':'gaia_id','Jmag':11.8,'SpT':'M4'},\n",
    "                              index=[0])\n",
    "display(target_chilean)\n",
    "\n"
   ]
  },
  {
   "cell_type": "code",
   "execution_count": null,
   "metadata": {},
   "outputs": [],
   "source": [
    "chilean_plans.make_plans(target_chilean)"
   ]
  },
  {
   "cell_type": "code",
   "execution_count": 6,
   "metadata": {},
   "outputs": [
    {
     "name": "stdout",
     "output_type": "stream",
     "text": [
      "INFO: OK, filter chosen for Ch_1 is in the list\n",
      "INFO: OK, exposure time chosen for Ch_1 is >10s\n",
      "INFO: OK, field Ch_1 respects the elevation constraint\n",
      "INFO: OK, field Ch_1 respects the moon constraint\n",
      "INFO: Ok, field Ch_1 is scheduled for more than 15 min\n",
      "INFO: OK, field Ch_1 does not contain a SPECULOOS target\n",
      "INFO: Check completed, plans are OK\n"
     ]
    }
   ],
   "source": [
    "chilean_plans.check_plans()\n"
   ]
  },
  {
   "cell_type": "code",
   "execution_count": 3,
   "metadata": {},
   "outputs": [
    {
     "data": {
      "text/plain": [
       "'2020-05-25 22:54:12.659'"
      ]
     },
     "execution_count": 3,
     "metadata": {},
     "output_type": "execute_result"
    }
   ],
   "source": [
    "from astropy.time import Time\n",
    "chilean_plans.observatory.twilight_evening_nautical(Time(chilean_plans.start_date), which='nearest').iso\n"
   ]
  },
  {
   "cell_type": "code",
   "execution_count": 4,
   "metadata": {},
   "outputs": [
    {
     "data": {
      "text/plain": [
       "<Time object: scale='utc' format='iso' value=2020-05-26>"
      ]
     },
     "execution_count": 4,
     "metadata": {},
     "output_type": "execute_result"
    }
   ],
   "source": [
    "Time(chilean_plans.start_date,out_subfmt='date')"
   ]
  },
  {
   "cell_type": "code",
   "execution_count": 5,
   "metadata": {},
   "outputs": [],
   "source": [
    "from astropy.time import Time\n",
    "from astropy.coordinates import SkyCoord,EarthLocation\n",
    "from astroplan import FixedTarget,is_observable,AltitudeConstraint, MoonSeparationConstraint,AtNightConstraint\n",
    "from astroplan import Observer,moon_illumination,is_always_observable\n",
    "from astropy import units as u\n",
    "from astroquery.mast import Catalogs\n",
    "import datetime\n",
    "import os\n",
    "import sys\n",
    "import shutil\n",
    "import numpy as np\n",
    "import pandas as pd\n",
    "import SPOCK_chilean_nights.ETC as ETC\n",
    "from SPOCK_chilean_nights.txt_files import startup, flatexo_gany, flatexo_io, flatexo_euro, flatexo_calli\n",
    "from SPOCK_chilean_nights.txt_files import first_target, flatdawn, biasdark"
   ]
  },
  {
   "cell_type": "code",
   "execution_count": null,
   "metadata": {},
   "outputs": [],
   "source": []
  },
  {
   "cell_type": "code",
   "execution_count": null,
   "metadata": {},
   "outputs": [],
   "source": []
  },
  {
   "cell_type": "code",
   "execution_count": null,
   "metadata": {},
   "outputs": [],
   "source": []
  },
  {
   "cell_type": "code",
   "execution_count": null,
   "metadata": {},
   "outputs": [],
   "source": []
  }
 ],
 "metadata": {
  "kernelspec": {
   "display_name": "Python 3",
   "language": "python",
   "name": "python3"
  },
  "language_info": {
   "codemirror_mode": {
    "name": "ipython",
    "version": 3
   },
   "file_extension": ".py",
   "mimetype": "text/x-python",
   "name": "python",
   "nbconvert_exporter": "python",
   "pygments_lexer": "ipython3",
   "version": "3.7.4"
  }
 },
 "nbformat": 4,
 "nbformat_minor": 4
}
