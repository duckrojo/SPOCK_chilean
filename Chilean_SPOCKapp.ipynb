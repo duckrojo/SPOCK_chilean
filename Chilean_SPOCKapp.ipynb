{
 "cells": [
  {
   "cell_type": "code",
   "execution_count": 1,
   "metadata": {},
   "outputs": [
    {
     "data": {
      "text/html": [
       "<script>\n",
       "  function code_toggle() {\n",
       "    if (code_shown){\n",
       "      $('div.input').hide('500');\n",
       "      $('#toggleButton').val('Show Code')\n",
       "    } else {\n",
       "      $('div.input').show('500');\n",
       "      $('#toggleButton').val('Hide Code')\n",
       "    }\n",
       "    code_shown = !code_shown\n",
       "  }\n",
       "\n",
       "  $( document ).ready(function(){\n",
       "    code_shown=false;\n",
       "    $('div.input').hide()\n",
       "  });\n",
       "</script>\n",
       "<form action=\"javascript:code_toggle()\"><input type=\"submit\" id=\"toggleButton\" value=\"Show Code\"></form>\n"
      ],
      "text/plain": [
       "<IPython.core.display.HTML object>"
      ]
     },
     "metadata": {},
     "output_type": "display_data"
    }
   ],
   "source": [
    "%%HTML\n",
    "<script>\n",
    "  function code_toggle() {\n",
    "    if (code_shown){\n",
    "      $('div.input').hide('500');\n",
    "      $('#toggleButton').val('Show Code')\n",
    "    } else {\n",
    "      $('div.input').show('500');\n",
    "      $('#toggleButton').val('Hide Code')\n",
    "    }\n",
    "    code_shown = !code_shown\n",
    "  }\n",
    "\n",
    "  $( document ).ready(function(){\n",
    "    code_shown=false;\n",
    "    $('div.input').hide()\n",
    "  });\n",
    "</script>\n",
    "<form action=\"javascript:code_toggle()\"><input type=\"submit\" id=\"toggleButton\" value=\"Show Code\"></form>"
   ]
  },
  {
   "cell_type": "code",
   "execution_count": 2,
   "metadata": {},
   "outputs": [],
   "source": [
    "#cell 1\n",
    "from astropy.time import Time\n",
    "import pandas as pd\n",
    "from astropy.utils import iers\n",
    "import matplotlib.pyplot as plt\n",
    "iers.IERS_A_URL  ='ftp://cddis.gsfc.nasa.gov/pub/products/iers/finals2000A.all'\n",
    "import yaml\n",
    "import sys\n",
    "from ipywidgets import interact, interactive, fixed, interact_manual\n",
    "import ipywidgets as widgets\n",
    "from IPython.display import HTML, display, clear_output, Javascript\n",
    "from plotly import graph_objs as go\n",
    "from IPython.display import Image\n",
    "import os\n",
    "from datetime import date\n",
    "import datetime\n",
    "from astropy import units as u\n",
    "import datetime\n",
    "from astroplan import Observer\n",
    "%matplotlib notebook\n",
    "from astropy.coordinates import SkyCoord,EarthLocation,CartesianRepresentation\n",
    "import markdown \n",
    "from ipywidgets import HTML\n",
    "from SPOCK_chilean.make_night_plans import chilean_time\n",
    "\n",
    "%gui asyncio"
   ]
  },
  {
   "cell_type": "code",
   "execution_count": 3,
   "metadata": {},
   "outputs": [
    {
     "data": {
      "application/vnd.jupyter.widget-view+json": {
       "model_id": "b85db9a32e1649bdb2e13646ec76911b",
       "version_major": 2,
       "version_minor": 0
      },
      "text/plain": [
       "Tab(children=(Accordion(children=(HBox(children=(Text(value='', description='ID for ESO', placeholder='ID'), T…"
      ]
     },
     "metadata": {},
     "output_type": "display_data"
    },
    {
     "data": {
      "application/javascript": [
       "Jupyter.notebook.execute_cells([3])"
      ],
      "text/plain": [
       "<IPython.core.display.Javascript object>"
      ]
     },
     "metadata": {},
     "output_type": "display_data"
    }
   ],
   "source": [
    "#cell 2\n",
    "# WIDGETS ---------------------------------------------------------------------------------------------\n",
    "chilean_ID_widget = widgets.Text(description='ID for ESO',placeholder='ID')\n",
    " \n",
    "chilean_title_widget = widgets.Text(description='Title',placeholder='title')\n",
    "\n",
    "chilean_PI_widget = widgets.Text(description='PI',placeholder='PI')\n",
    "\n",
    "start_date_widget =widgets.DatePicker(description='Start date',disabled=False)\n",
    "\n",
    "chilean_nb_target_widget = widgets.BoundedIntText(value=1,min=1,max=10,step=1,description='# targets:',disabled=False)\n",
    "\n",
    "telescope_widget = widgets.Combobox(placeholder='SSO telescope',options=['Io','Europa','Ganymede','Callisto'],\n",
    "    description='Telescope:',ensure_option=True,disabled=False)\n",
    "\n",
    "run_widget = widgets.Button(value=False,description='Click me',disabled=False,\n",
    "    button_style='',tooltip='Description',icon='check')\n",
    "\n",
    "def run_all(b): \n",
    "    display(Javascript('Jupyter.notebook.execute_cells([3])'))\n",
    "\n",
    "run_check_widget = widgets.Button(value=False,description='Check Plans',disabled=False,\n",
    "    button_style='warning',tooltip='Check',icon='fa-arrow-right')\n",
    "    \n",
    "def run_check(b): \n",
    "    try:\n",
    "        date_widget = datetime.datetime.combine(start_date_widget.value, datetime.time(1,0,0))\n",
    "        date = Time(date_widget,format='datetime',out_subfmt='date')\n",
    "        Path = './Plans_by_date/' + date.iso\n",
    "        if os.path.exists(Path):\n",
    "            print('INFO: Plan for on the ' + date.iso + ' are:')\n",
    "            for rr, dd, ff in os.walk(Path):\n",
    "                print(ff)\n",
    "            display(Javascript('Jupyter.notebook.execute_cells([5])'))\n",
    "\n",
    "        else:\n",
    "            print('ERROR: No known plans for this date ')\n",
    "    except TypeError: \n",
    "        print('ERROR: Please enter a correct date ')\n",
    "\n",
    "\n",
    "#---------------------------------------------------------------------------------------------\n",
    "\n",
    "chilean_tab = widgets.Accordion(children=[widgets.HBox([chilean_ID_widget,chilean_title_widget,chilean_PI_widget]),\\\n",
    "                                          widgets.VBox([widgets.HBox([start_date_widget,chilean_nb_target_widget,telescope_widget])]),\\\n",
    "                                          run_widget])\n",
    "chilean_tab.set_title(0, 'Requiered')\n",
    "chilean_tab.set_title(1, 'Plan maker options')\n",
    "chilean_tab.set_title(2, 'Go to plan maker')\n",
    "\n",
    "#---------------------------------------------------------------------------------------------\n",
    "\n",
    "check_tab = widgets.Accordion(children=[widgets.VBox([start_date_widget,run_check_widget])])\n",
    "check_tab.set_title(0, 'Plan checker')\n",
    "run_widget.on_click(run_all)\n",
    "run_check_widget.on_click(run_check)\n",
    "\n",
    "tab_nest = widgets.Tab()\n",
    "tab_nest.children = [chilean_tab,check_tab]\n",
    "tab_nest.set_title(0, 'Plan Maker ')\n",
    "tab_nest.set_title(1, 'Plan Checker ')\n",
    "tab_nest"
   ]
  },
  {
   "cell_type": "code",
   "execution_count": 8,
   "metadata": {
    "scrolled": false
   },
   "outputs": [
    {
     "data": {
      "application/vnd.jupyter.widget-view+json": {
       "model_id": "e8c147f3117f414a8a5ca98551462755",
       "version_major": 2,
       "version_minor": 0
      },
      "text/plain": [
       "Tab(children=(VBox(children=(Accordion(children=(VBox(children=(Text(value='', description='Target name', plac…"
      ]
     },
     "metadata": {},
     "output_type": "display_data"
    },
    {
     "data": {
      "application/vnd.jupyter.widget-view+json": {
       "model_id": "11744340e95c46b38709cb65fa95dbe5",
       "version_major": 2,
       "version_minor": 0
      },
      "text/plain": [
       "interactive(children=(BoundedFloatText(value=10.0, description='Jmag:', max=20.0, min=1.0, step=0.01), Dropdow…"
      ]
     },
     "metadata": {},
     "output_type": "display_data"
    },
    {
     "data": {
      "application/javascript": [
       "Jupyter.notebook.execute_cells([4])"
      ],
      "text/plain": [
       "<IPython.core.display.Javascript object>"
      ]
     },
     "metadata": {},
     "output_type": "display_data"
    },
    {
     "data": {
      "application/javascript": [
       "Jupyter.notebook.execute_cells([4])"
      ],
      "text/plain": [
       "<IPython.core.display.Javascript object>"
      ]
     },
     "metadata": {},
     "output_type": "display_data"
    }
   ],
   "source": [
    "#cell 3\n",
    "if start_date_widget.value is None:\n",
    "    #sys.exit('ERROR: You must choose a date')\n",
    "    Javascript('Jupyter.notebook.execute_cells([6])')\n",
    "else:\n",
    "    chilean_target_name_widget = [widgets.Text(description='Target name',placeholder='Chxxxx-xxxx'),\n",
    "                                  widgets.Text(description='Target name',placeholder='Chxxxx-xxxx'),\n",
    "                                  widgets.Text(description='Target name',placeholder='Chxxxx-xxxx'),\n",
    "                                  widgets.Text(description='Target name',placeholder='Chxxxx-xxxx'),\n",
    "                                  widgets.Text(description='Target name',placeholder='Chxxxx-xxxx'),\n",
    "                                  widgets.Text(description='Target name',placeholder='Chxxxx-xxxx'),\n",
    "                                  widgets.Text(description='Target name',placeholder='Chxxxx-xxxx'),\n",
    "                                  widgets.Text(description='Target name',placeholder='Chxxxx-xxxx'),\n",
    "                                  widgets.Text(description='Target name',placeholder='Chxxxx-xxxx'),\n",
    "                                  widgets.Text(description='Target name',placeholder='Chxxxx-xxxx')]\n",
    "\n",
    "    chilean_filter_widget = [widgets.Combobox(placeholder='Choose a filter',options=['I+z','r','z','i','Clear'],\n",
    "        description='Filter :',ensure_option=True,disabled=False),\n",
    "        widgets.Combobox(placeholder='Choose a filter',options=['I+z','r','z','i','Clear'],\n",
    "        description='Filter :',ensure_option=True,disabled=False),\n",
    "        widgets.Combobox(placeholder='Choose a filter',options=['I+z','r','z','i','Clear'],\n",
    "        description='Filter :',ensure_option=True,disabled=False),\n",
    "        widgets.Combobox(placeholder='Choose a filter',options=['I+z','r','z','i','Clear'],\n",
    "        description='Filter :',ensure_option=True,disabled=False),\n",
    "        widgets.Combobox(placeholder='Choose a filter',options=['I+z','r','z','i','Clear'],\n",
    "        description='Filter :',ensure_option=True,disabled=False),\n",
    "        widgets.Combobox(placeholder='Choose a filter',options=['I+z','r','z','i','Clear'],\n",
    "        description='Filter :',ensure_option=True,disabled=False),\n",
    "        widgets.Combobox(placeholder='Choose a filter',options=['I+z','r','z','i','Clear'],\n",
    "        description='Filter :',ensure_option=True,disabled=False),\n",
    "        widgets.Combobox(placeholder='Choose a filter',options=['I+z','r','z','i','Clear'],\n",
    "        description='Filter :',ensure_option=True,disabled=False),\n",
    "        widgets.Combobox(placeholder='Choose a filter',options=['I+z','r','z','i','Clear'],\n",
    "        description='Filter :',ensure_option=True,disabled=False),\n",
    "        widgets.Combobox(placeholder='Choose a filter',options=['I+z','r','z','i','Clear'],\n",
    "        description='Filter :',ensure_option=True,disabled=False)]\n",
    "\n",
    "    chilean_texp_widget = [widgets.BoundedIntText(value=20,min=10,max=2000,step=1,description='Exp time:',disabled=False),\n",
    "        widgets.BoundedIntText(value=20,min=10,max=2000,step=1,description='Exp time:',disabled=False),\n",
    "                          widgets.BoundedIntText(value=20,min=10,max=2000,step=1,description='Exp time:',disabled=False),\n",
    "        widgets.BoundedIntText(value=20,min=10,max=2000,step=1,description='Exp time:',disabled=False),\n",
    "                          widgets.BoundedIntText(value=20,min=10,max=2000,step=1,description='Exp time:',disabled=False),\n",
    "        widgets.BoundedIntText(value=20,min=10,max=2000,step=1,description='Exp time:',disabled=False),\n",
    "                          widgets.BoundedIntText(value=20,min=10,max=2000,step=1,description='Exp time:',disabled=False),\n",
    "        widgets.BoundedIntText(value=20,min=10,max=2000,step=1,description='Exp time:',disabled=False),\n",
    "                          widgets.BoundedIntText(value=20,min=10,max=2000,step=1,description='Exp time:',disabled=False),\n",
    "        widgets.BoundedIntText(value=20,min=10,max=2000,step=1,description='Exp time:',disabled=False),\n",
    "                          widgets.BoundedIntText(value=20,min=10,max=2000,step=1,description='Exp time:',disabled=False),\n",
    "        widgets.BoundedIntText(value=20,min=10,max=2000,step=1,description='Exp time:',disabled=False),\n",
    "                          widgets.BoundedIntText(value=20,min=10,max=2000,step=1,description='Exp time:',disabled=False),\n",
    "        widgets.BoundedIntText(value=20,min=10,max=2000,step=1,description='Exp time:',disabled=False),\n",
    "                          widgets.BoundedIntText(value=20,min=10,max=2000,step=1,description='Exp time:',disabled=False),\n",
    "        widgets.BoundedIntText(value=20,min=10,max=2000,step=1,description='Exp time:',disabled=False),\n",
    "                          widgets.BoundedIntText(value=20,min=10,max=2000,step=1,description='Exp time:',disabled=False),\n",
    "        widgets.BoundedIntText(value=20,min=10,max=2000,step=1,description='Exp time:',disabled=False),\n",
    "                          widgets.BoundedIntText(value=20,min=10,max=2000,step=1,description='Exp time:',disabled=False),\n",
    "        widgets.BoundedIntText(value=20,min=10,max=2000,step=1,description='Exp time:',disabled=False)]\n",
    "\n",
    "    chilean_binnig_widget = [widgets.BoundedIntText(value=1,min=1,max=10,step=1,description='binning:',disabled=False),\n",
    "        widgets.BoundedIntText(value=1,min=1,max=10,step=1,description='binning:',disabled=False),\n",
    "                            widgets.BoundedIntText(value=1,min=1,max=10,step=1,description='binning:',disabled=False),\n",
    "        widgets.BoundedIntText(value=1,min=1,max=10,step=1,description='binning:',disabled=False),\n",
    "                            widgets.BoundedIntText(value=1,min=1,max=10,step=1,description='binning:',disabled=False),\n",
    "        widgets.BoundedIntText(value=1,min=1,max=10,step=1,description='binning:',disabled=False),\n",
    "                            widgets.BoundedIntText(value=1,min=1,max=10,step=1,description='binning:',disabled=False),\n",
    "        widgets.BoundedIntText(value=1,min=1,max=10,step=1,description='binning:',disabled=False),\n",
    "                            widgets.BoundedIntText(value=1,min=1,max=10,step=1,description='binning:',disabled=False),\n",
    "        widgets.BoundedIntText(value=1,min=1,max=10,step=1,description='binning:',disabled=False),\n",
    "                            widgets.BoundedIntText(value=1,min=1,max=10,step=1,description='binning:',disabled=False),\n",
    "        widgets.BoundedIntText(value=1,min=1,max=10,step=1,description='binning:',disabled=False),\n",
    "                            widgets.BoundedIntText(value=1,min=1,max=10,step=1,description='binning:',disabled=False),\n",
    "        widgets.BoundedIntText(value=1,min=1,max=10,step=1,description='binning:',disabled=False),\n",
    "                            widgets.BoundedIntText(value=1,min=1,max=10,step=1,description='binning:',disabled=False),\n",
    "        widgets.BoundedIntText(value=1,min=1,max=10,step=1,description='binning:',disabled=False),\n",
    "                            widgets.BoundedIntText(value=1,min=1,max=10,step=1,description='binning:',disabled=False),\n",
    "        widgets.BoundedIntText(value=1,min=1,max=10,step=1,description='binning:',disabled=False),\n",
    "                            widgets.BoundedIntText(value=1,min=1,max=10,step=1,description='binning:',disabled=False),\n",
    "        widgets.BoundedIntText(value=1,min=1,max=10,step=1,description='binning:',disabled=False)]\n",
    "\n",
    "    chilean_ra_widgget = [widgets.BoundedFloatText(value=0.0000,min=0.0,max=360,step=0.0001,description='RA (in °):',disabled=False),\n",
    "        widgets.BoundedFloatText(value=0.0000,min=0.0,max=360,step=0.0001,description='RA (in °):',disabled=False),\n",
    "        widgets.BoundedFloatText(value=0.0000,min=0.0,max=360,step=0.0001,description='RA (in °):',disabled=False),\n",
    "        widgets.BoundedFloatText(value=0.0000,min=0.0,max=360,step=0.0001,description='RA (in °):',disabled=False),\n",
    "        widgets.BoundedFloatText(value=0.0000,min=0.0,max=360,step=0.0001,description='RA (in °):',disabled=False),\n",
    "        widgets.BoundedFloatText(value=0.0000,min=0.0,max=360,step=0.0001,description='RA (in °):',disabled=False),\n",
    "        widgets.BoundedFloatText(value=0.0000,min=0.0,max=360,step=0.0001,description='RA (in °):',disabled=False),\n",
    "        widgets.BoundedFloatText(value=0.0000,min=0.0,max=360,step=0.0001,description='RA (in °):',disabled=False),\n",
    "        widgets.BoundedFloatText(value=0.0000,min=0.0,max=360,step=0.0001,description='RA (in °):',disabled=False),\n",
    "        widgets.BoundedFloatText(value=0.0000,min=0.0,max=360,step=0.0001,description='RA (in °):',disabled=False)]\n",
    "\n",
    "    chilean_dec_widgget = [widgets.BoundedFloatText(value=0.0000,min=-90.0,max=+90.0,step=0.0001,description='DEC (in °):',disabled=False),\n",
    "        widgets.BoundedFloatText(value=0.0000,min=-90.0,max=+90.0,step=0.0001,description='DEC (in °):',disabled=False),\n",
    "        widgets.BoundedFloatText(value=0.0000,min=-90.0,max=+90.0,step=0.0001,description='DEC (in °):',disabled=False),\n",
    "        widgets.BoundedFloatText(value=0.0000,min=-90.0,max=+90.0,step=0.0001,description='DEC (in °):',disabled=False),\n",
    "        widgets.BoundedFloatText(value=0.0000,min=-90.0,max=+90.0,step=0.0001,description='DEC (in °):',disabled=False),\n",
    "        widgets.BoundedFloatText(value=0.0000,min=-90.0,max=+90.0,step=0.0001,description='DEC (in °):',disabled=False),\n",
    "        widgets.BoundedFloatText(value=0.0000,min=-90.0,max=+90.0,step=0.0001,description='DEC (in °):',disabled=False),\n",
    "        widgets.BoundedFloatText(value=0.0000,min=-90.0,max=+90.0,step=0.0001,description='DEC (in °):',disabled=False),\n",
    "        widgets.BoundedFloatText(value=0.0000,min=-90.0,max=+90.0,step=0.0001,description='DEC (in °):',disabled=False),\n",
    "        widgets.BoundedFloatText(value=0.0000,min=-90.0,max=+90.0,step=0.0001,description='DEC (in °):',disabled=False)]\n",
    "\n",
    "    chilean_count_widget = [widgets.BoundedIntText(value=5000,min=1,max=10000,step=1,description='Counts:',disabled=False),\n",
    "        widgets.BoundedIntText(value=5000,min=1,max=10000,step=1,description='Counts:',disabled=False),\n",
    "        widgets.BoundedIntText(value=5000,min=1,max=10000,step=1,description='Counts:',disabled=False),\n",
    "        widgets.BoundedIntText(value=5000,min=1,max=10000,step=1,description='Counts:',disabled=False),\n",
    "        widgets.BoundedIntText(value=5000,min=1,max=10000,step=1,description='Counts:',disabled=False),\n",
    "        widgets.BoundedIntText(value=5000,min=1,max=10000,step=1,description='Counts:',disabled=False),\n",
    "        widgets.BoundedIntText(value=5000,min=1,max=10000,step=1,description='Counts:',disabled=False),\n",
    "        widgets.BoundedIntText(value=5000,min=1,max=10000,step=1,description='Counts:',disabled=False),\n",
    "        widgets.BoundedIntText(value=5000,min=1,max=10000,step=1,description='Counts:',disabled=False),\n",
    "        widgets.BoundedIntText(value=5000,min=1,max=10000,step=1,description='Counts:',disabled=False)]\n",
    "    \n",
    "    chilean_gaia_widget = [widgets.Text(description='Gaia_ID',placeholder='ID'),\n",
    "                          widgets.Text(description='Gaia ID',placeholder='ID'),\n",
    "                          widgets.Text(description='Gaia ID',placeholder='ID'),\n",
    "                          widgets.Text(description='Gaia ID',placeholder='ID'),\n",
    "                          widgets.Text(description='Gaia ID',placeholder='ID'),\n",
    "                          widgets.Text(description='Gaia ID',placeholder='ID'),\n",
    "                          widgets.Text(description='Gaia ID',placeholder='ID'),\n",
    "                          widgets.Text(description='Gaia ID',placeholder='ID'),\n",
    "                          widgets.Text(description='Gaia ID',placeholder='ID'),\n",
    "                          widgets.Text(description='Gaia ID',placeholder='ID')]\n",
    "    \n",
    "    chilean_Jmag_widget = [widgets.BoundedFloatText(value=10.00,min=1.00,max=20.00,step=0.01,description='Jmag:',disabled=False),\n",
    "        widgets.BoundedFloatText(value=10.00,min=1.00,max=20.00,step=0.01,description='Jmag:',disabled=False),\n",
    "        widgets.BoundedFloatText(value=10.00,min=1.00,max=20.00,step=0.01,description='Jmag:',disabled=False),\n",
    "        widgets.BoundedFloatText(value=10.00,min=1.00,max=20.00,step=0.01,description='Jmag:',disabled=False),\n",
    "        widgets.BoundedFloatText(value=10.00,min=1.00,max=20.00,step=0.01,description='Jmag:',disabled=False),\n",
    "        widgets.BoundedFloatText(value=10.00,min=1.00,max=20.00,step=0.01,description='Jmag:',disabled=False),\n",
    "        widgets.BoundedFloatText(value=10.00,min=1.00,max=20.00,step=0.01,description='Jmag:',disabled=False),\n",
    "        widgets.BoundedFloatText(value=10.00,min=1.00,max=20.00,step=0.01,description='Jmag:',disabled=False),\n",
    "        widgets.BoundedFloatText(value=10.00,min=1.00,max=20.00,step=0.01,description='Jmag:',disabled=False),\n",
    "        widgets.BoundedFloatText(value=10.00,min=1.00,max=20.00,step=0.01,description='Jmag:',disabled=False)]\n",
    " \n",
    "    chilean_SpT_widget = [widgets.Combobox(placeholder='Choose a SpT',options=['B0','B1','B3','B6','B8','A0','A2','A3','A5','F0','F2','F5'\n",
    "                    ,'F8','G0','G1','G2','G5','G8','K0','K2','K5','K7','M0','M2','M4','M5','M6','M7'\n",
    "                    ,'M8','M9','L2','L5','L8'],description='Spectral type :',ensure_option=True,disabled=False),\n",
    "                        widgets.Combobox(placeholder='Choose a SpT',options=['B0','B1','B3','B6','B8','A0','A2','A3','A5','F0','F2','F5'\n",
    "                    ,'F8','G0','G1','G2','G5','G8','K0','K2','K5','K7','M0','M2','M4','M5','M6','M7'\n",
    "                    ,'M8','M9','L2','L5','L8'],description='Spectral type :',ensure_option=True,disabled=False),\n",
    "                         widgets.Combobox(placeholder='Choose a SpT',options=['B0','B1','B3','B6','B8','A0','A2','A3','A5','F0','F2','F5'\n",
    "                    ,'F8','G0','G1','G2','G5','G8','K0','K2','K5','K7','M0','M2','M4','M5','M6','M7'\n",
    "                    ,'M8','M9','L2','L5','L8'],description='Spectral type :',ensure_option=True,disabled=False),\n",
    "                         widgets.Combobox(placeholder='Choose a SpT',options=['B0','B1','B3','B6','B8','A0','A2','A3','A5','F0','F2','F5'\n",
    "                    ,'F8','G0','G1','G2','G5','G8','K0','K2','K5','K7','M0','M2','M4','M5','M6','M7'\n",
    "                    ,'M8','M9','L2','L5','L8'],description='Spectral type :',ensure_option=True,disabled=False),\n",
    "                         widgets.Combobox(placeholder='Choose a SpT',options=['B0','B1','B3','B6','B8','A0','A2','A3','A5','F0','F2','F5'\n",
    "                    ,'F8','G0','G1','G2','G5','G8','K0','K2','K5','K7','M0','M2','M4','M5','M6','M7'\n",
    "                    ,'M8','M9','L2','L5','L8'],description='Spectral type :',ensure_option=True,disabled=False),\n",
    "                         widgets.Combobox(placeholder='Choose a SpT',options=['B0','B1','B3','B6','B8','A0','A2','A3','A5','F0','F2','F5'\n",
    "                    ,'F8','G0','G1','G2','G5','G8','K0','K2','K5','K7','M0','M2','M4','M5','M6','M7'\n",
    "                    ,'M8','M9','L2','L5','L8'],description='Spectral type :',ensure_option=True,disabled=False),\n",
    "                         widgets.Combobox(placeholder='Choose a SpT',options=['B0','B1','B3','B6','B8','A0','A2','A3','A5','F0','F2','F5'\n",
    "                    ,'F8','G0','G1','G2','G5','G8','K0','K2','K5','K7','M0','M2','M4','M5','M6','M7'\n",
    "                    ,'M8','M9','L2','L5','L8'],description='Spectral type :',ensure_option=True,disabled=False),\n",
    "                         widgets.Combobox(placeholder='Choose a SpT',options=['B0','B1','B3','B6','B8','A0','A2','A3','A5','F0','F2','F5'\n",
    "                    ,'F8','G0','G1','G2','G5','G8','K0','K2','K5','K7','M0','M2','M4','M5','M6','M7'\n",
    "                    ,'M8','M9','L2','L5','L8'],description='Spectral type :',ensure_option=True,disabled=False),\n",
    "                         widgets.Combobox(placeholder='Choose a SpT',options=['B0','B1','B3','B6','B8','A0','A2','A3','A5','F0','F2','F5'\n",
    "                    ,'F8','G0','G1','G2','G5','G8','K0','K2','K5','K7','M0','M2','M4','M5','M6','M7'\n",
    "                    ,'M8','M9','L2','L5','L8'],description='Spectral type :',ensure_option=True,disabled=False),\n",
    "                         widgets.Combobox(placeholder='Choose a SpT',options=['B0','B1','B3','B6','B8','A0','A2','A3','A5','F0','F2','F5'\n",
    "                    ,'F8','G0','G1','G2','G5','G8','K0','K2','K5','K7','M0','M2','M4','M5','M6','M7'\n",
    "                    ,'M8','M9','L2','L5','L8'],description='Spectral type :',ensure_option=True,disabled=False)]\n",
    "\n",
    "    chilean_start_time_widget = [widgets.Text(description='Start time',placeholder='2020-01-16 23:00:00'),\\\n",
    "                                widgets.Text(description='Start time',placeholder='2020-01-16 23:00:00'),\n",
    "                                widgets.Text(description='Start time',placeholder='2020-01-16 23:00:00'),\n",
    "                                widgets.Text(description='Start time',placeholder='2020-01-16 23:00:00'),\n",
    "                                widgets.Text(description='Start time',placeholder='2020-01-16 23:00:00'),\n",
    "                                widgets.Text(description='Start time',placeholder='2020-01-16 23:00:00'),\n",
    "                                widgets.Text(description='Start time',placeholder='2020-01-16 23:00:00'),\n",
    "                                widgets.Text(description='Start time',placeholder='2020-01-16 23:00:00'),\n",
    "                                widgets.Text(description='Start time',placeholder='2020-01-16 23:00:00'),\n",
    "                                widgets.Text(description='Start time',placeholder='2020-01-16 23:00:00')]\n",
    "    \n",
    "    chilean_end_time_widget = [widgets.Text(description='End time',placeholder='2020-01-17 03:00:00'),\\\n",
    "                              widgets.Text(description='End time',placeholder='2020-01-17 03:00:00'),\n",
    "                              widgets.Text(description='End time',placeholder='2020-01-17 03:00:00'),\n",
    "                              widgets.Text(description='End time',placeholder='2020-01-17 03:00:00'),\n",
    "                              widgets.Text(description='End time',placeholder='2020-01-17 03:00:00'),\n",
    "                              widgets.Text(description='End time',placeholder='2020-01-17 03:00:00'),\n",
    "                              widgets.Text(description='End time',placeholder='2020-01-17 03:00:00'),\n",
    "                              widgets.Text(description='End time',placeholder='2020-01-17 03:00:00'),\n",
    "                              widgets.Text(description='End time',placeholder='2020-01-17 03:00:00'),\n",
    "                              widgets.Text(description='End time',placeholder='2020-01-17 03:00:00')]\n",
    "\n",
    "\n",
    "    run_chilean_widget = widgets.Button(value=False,description='Click me',disabled=False,\n",
    "        button_style='',tooltip='Description',icon='check')\n",
    "\n",
    "    run_etc_widget = widgets.Button(value=False,description='ETC SPECULOOS',disabled=False,\n",
    "        button_style='info',tooltip='Open ETC',icon='fa-arrow-right')\n",
    "    \n",
    "    def run_etc(b):\n",
    "        date_widget = datetime.datetime.combine(start_date_widget.value, datetime.time(1,0,0))\n",
    "        date = Time(date_widget,format='datetime',out_subfmt='date')\n",
    "        def etc_chilean(Jmag,SpT,Filter):\n",
    "            a = chilean_time(date.iso)\n",
    "            texp, peak, SNR = a.etc_chilean(Jmag,SpT,Filter)\n",
    "            return 'INFO: The exopusre time we recommend is ' + str(int(texp)*u.s) + ', Peak is: ' + str(round(peak,3)) + \\\n",
    "        ' ADU, and SNR is:  ' + str(round(SNR,3))\n",
    "        interact(etc_chilean,Jmag=widgets.BoundedFloatText(value=10.00,min=1.00,max=20.00,\\\n",
    "        step=0.01,description='Jmag:',disabled=False),SpT=['B0','B1','B3','B6','B8', \\\n",
    "                        'A0','A2','A3','A5', \\\n",
    "                        'F0','F2','F5','F8', \\\n",
    "                        'G0','G1','G2','G5','G8', \\\n",
    "                        'K0','K2','K5','K7', \\\n",
    "                        'M0','M2','M4','M5','M6','M7','M8','M9', \\\n",
    "                        'L2','L5','L8'],Filter=['I+z','z','i','Clear'])\n",
    "\n",
    "    def run_chilean(b): \n",
    "        display(Javascript('Jupyter.notebook.execute_cells([4])'))\n",
    "\n",
    "\n",
    "    chilean_tab = []\n",
    "\n",
    "    for i in range(0,chilean_nb_target_widget.value):\n",
    "        chilean_tab.append(widgets.Accordion(children=[widgets.VBox([chilean_target_name_widget[i],widgets.HBox([chilean_ra_widgget[i],chilean_dec_widgget[i]]),\n",
    "                                                  widgets.HBox([chilean_filter_widget[i],chilean_texp_widget[i],chilean_binnig_widget[i]]),\\\n",
    "                                                  widgets.HBox([chilean_start_time_widget[i],chilean_end_time_widget[i]]),\\\n",
    "                                                  widgets.HBox([chilean_count_widget[i],chilean_SpT_widget[i],chilean_Jmag_widget[i]]),run_etc_widget])]))\n",
    "        chilean_tab[i].set_title(0,' Field #' + str(i+1))\n",
    "    chilean_tab.append(widgets.Accordion(children=[run_chilean_widget]))\n",
    "    chilean_tab[len(chilean_tab)-1].set_title(0, 'Run plan maker')\n",
    "\n",
    "    run_chilean_widget.on_click(run_chilean)\n",
    "    run_etc_widget.on_click(run_etc)\n",
    "    w = run_etc_widget\n",
    "    tab_nest = widgets.Tab()\n",
    "    tab_nest.children = [widgets.VBox([chilean_tab[i] for i in range(len(chilean_tab))])]\n",
    "    tab_nest.set_title(0, 'Plan maker ')\n",
    "    display(tab_nest)"
   ]
  },
  {
   "cell_type": "code",
   "execution_count": 11,
   "metadata": {},
   "outputs": [
    {
     "name": "stdout",
     "output_type": "stream",
     "text": [
      "INFO: File for date 2020-06-25 exists, overwriting\n"
     ]
    },
    {
     "data": {
      "text/html": [
       "<div>\n",
       "<style scoped>\n",
       "    .dataframe tbody tr th:only-of-type {\n",
       "        vertical-align: middle;\n",
       "    }\n",
       "\n",
       "    .dataframe tbody tr th {\n",
       "        vertical-align: top;\n",
       "    }\n",
       "\n",
       "    .dataframe thead th {\n",
       "        text-align: right;\n",
       "    }\n",
       "</style>\n",
       "<table border=\"1\" class=\"dataframe\">\n",
       "  <thead>\n",
       "    <tr style=\"text-align: right;\">\n",
       "      <th></th>\n",
       "      <th>Date</th>\n",
       "      <th>Telescope</th>\n",
       "      <th>Name</th>\n",
       "      <th>Start</th>\n",
       "      <th>End</th>\n",
       "      <th>RA</th>\n",
       "      <th>DEC</th>\n",
       "      <th>Filter</th>\n",
       "      <th>texp</th>\n",
       "      <th>Counts</th>\n",
       "      <th>#target</th>\n",
       "      <th>Gaia_ID</th>\n",
       "      <th>Jmag</th>\n",
       "      <th>SpT</th>\n",
       "    </tr>\n",
       "  </thead>\n",
       "  <tbody>\n",
       "    <tr>\n",
       "      <th>0</th>\n",
       "      <td>2020-06-25 01:00:00</td>\n",
       "      <td>Europa</td>\n",
       "      <td>Ch3</td>\n",
       "      <td>2020-06-26 06:00:00.000</td>\n",
       "      <td>2020-06-26 07:00:00.000</td>\n",
       "      <td>346.0</td>\n",
       "      <td>-5.04</td>\n",
       "      <td>I+z</td>\n",
       "      <td>23</td>\n",
       "      <td>5000</td>\n",
       "      <td>0</td>\n",
       "      <td>gaia_id</td>\n",
       "      <td>10.0</td>\n",
       "      <td></td>\n",
       "    </tr>\n",
       "  </tbody>\n",
       "</table>\n",
       "</div>"
      ],
      "text/plain": [
       "                  Date Telescope Name                    Start  \\\n",
       "0  2020-06-25 01:00:00    Europa  Ch3  2020-06-26 06:00:00.000   \n",
       "\n",
       "                       End     RA   DEC Filter  texp  Counts  #target  \\\n",
       "0  2020-06-26 07:00:00.000  346.0 -5.04    I+z    23    5000        0   \n",
       "\n",
       "   Gaia_ID  Jmag SpT  \n",
       "0  gaia_id  10.0      "
      ]
     },
     "metadata": {},
     "output_type": "display_data"
    },
    {
     "data": {
      "application/vnd.jupyter.widget-view+json": {
       "model_id": "ae762ec32b0a483aa9f710c3b0632abd",
       "version_major": 2,
       "version_minor": 0
      },
      "text/plain": [
       "Button(button_style='warning', description='Check Plans', icon='arrow-right', style=ButtonStyle(), tooltip='Ch…"
      ]
     },
     "metadata": {},
     "output_type": "display_data"
    },
    {
     "data": {
      "application/javascript": [
       "Jupyter.notebook.execute_cells([5])"
      ],
      "text/plain": [
       "<IPython.core.display.Javascript object>"
      ]
     },
     "metadata": {},
     "output_type": "display_data"
    },
    {
     "data": {
      "application/javascript": [
       "Jupyter.notebook.execute_cells([5])"
      ],
      "text/plain": [
       "<IPython.core.display.Javascript object>"
      ]
     },
     "metadata": {},
     "output_type": "display_data"
    },
    {
     "data": {
      "application/javascript": [
       "Jupyter.notebook.execute_cells([5])"
      ],
      "text/plain": [
       "<IPython.core.display.Javascript object>"
      ]
     },
     "metadata": {},
     "output_type": "display_data"
    }
   ],
   "source": [
    "#cell 4\n",
    "run_check_widget = widgets.Button(\n",
    "    value=False,\n",
    "    description='Check Plans',\n",
    "    disabled=False,\n",
    "    button_style='warning', # 'success', 'info', 'warning', 'danger' or ''\n",
    "    tooltip='Check',\n",
    "    icon='fa-arrow-right')\n",
    "    \n",
    "def run_check(b): \n",
    "        display(Javascript('Jupyter.notebook.execute_cells([5])'))\n",
    "        \n",
    "try: \n",
    "    date_widget = datetime.datetime.combine(start_date_widget.value, datetime.time(1,0,0))\n",
    "    date = Time(date_widget,format='datetime',out_subfmt='date')\n",
    "    date_folder = Time(date_widget,format='datetime',out_subfmt='date').iso\n",
    "    try:\n",
    "        for i in range(0,chilean_nb_target_widget.value):\n",
    "            if i ==0:\n",
    "                target_chilean = pd.DataFrame({'Date': date, 'Telescope': telescope_widget.value, 'Name': chilean_target_name_widget[0].value,\n",
    "                                       'Start': Time(chilean_start_time_widget[0].value).iso, 'End': Time(chilean_end_time_widget[0].value).iso,\n",
    "                                       'RA': chilean_ra_widgget[0].value , \\\n",
    "                                       'DEC': chilean_dec_widgget[0].value, 'Filter': chilean_filter_widget[0].value,\n",
    "                                       'texp': chilean_texp_widget[0].value, \\\n",
    "                                       'Counts': chilean_count_widget[0].value, '#target': 0,'Gaia_ID':'gaia_id','Jmag':chilean_Jmag_widget[0].value,'SpT':chilean_SpT_widget[0].value},\n",
    "                                      index=[0])\n",
    "            if i > 0:\n",
    "                other_target = {'Date': date, 'Telescope': telescope_widget.value, 'Name': chilean_target_name_widget[i].value,\\\n",
    "                                   'Start': Time(chilean_start_time_widget[i].value).iso, 'End': Time(chilean_end_time_widget[i].value).iso,\\\n",
    "                                   'RA': chilean_ra_widgget[i].value ,\\\n",
    "                                   'DEC': chilean_dec_widgget[i].value, 'Filter': chilean_filter_widget[i].value,\\\n",
    "                                   'texp': chilean_texp_widget[i].value,\\\n",
    "                                   'Counts': chilean_count_widget[i].value, '#target': 0,'Gaia_ID':'gaia_id','Jmag':chilean_Jmag_widget[i].value,'SpT':chilean_SpT_widget[i].value}\n",
    "\n",
    "                target_chilean = target_chilean.append(other_target, ignore_index=True, sort=False)\n",
    "\n",
    "        a = chilean_time(date.iso)\n",
    "        a.make_plans(target_chilean)\n",
    "        display(target_chilean)\n",
    "        display(run_check_widget)\n",
    "        run_check_widget.on_click(run_check)\n",
    "\n",
    "    except ValueError:\n",
    "        print('ERROR: Please ensure you have filled in all the fields')\n",
    "\n",
    "except TypeError:\n",
    "    print('ERROR: Chose a date')"
   ]
  },
  {
   "cell_type": "code",
   "execution_count": 14,
   "metadata": {},
   "outputs": [
    {
     "name": "stdout",
     "output_type": "stream",
     "text": [
      "INFO: OK, filter chosen for Ch3 is in the list\n",
      "INFO: OK, exposure time chosen for Ch3 is >10s\n",
      "INFO: OK, field Ch3 respects the elevation constraint\n",
      "INFO: OK, field Ch3 respects the moon constraint\n",
      "INFO: Ok, field Ch3 is scheduled for more than 15 min\n",
      "INFO: OK, field Ch3 does not contain a SPECULOOS target\n",
      "INFO: Check completed, plans are OK\n"
     ]
    }
   ],
   "source": [
    "#cell 5\n",
    "try:\n",
    "    date_widget = datetime.datetime.combine(start_date_widget.value, datetime.time(1,0,0))\n",
    "    date = Time(date_widget,format='datetime',out_subfmt='date')\n",
    "    a = chilean_time(date.iso)\n",
    "    a.check_plans()\n",
    "\n",
    "except TypeError:\n",
    "    print('ERROR: Chose a date')\n"
   ]
  },
  {
   "cell_type": "code",
   "execution_count": 7,
   "metadata": {},
   "outputs": [
    {
     "name": "stdout",
     "output_type": "stream",
     "text": [
      "ERROR: Chose a date\n"
     ]
    }
   ],
   "source": [
    "#cell 6\n",
    "print('ERROR: Chose a date')"
   ]
  },
  {
   "cell_type": "code",
   "execution_count": null,
   "metadata": {},
   "outputs": [],
   "source": []
  }
 ],
 "metadata": {
  "kernelspec": {
   "display_name": "Python 3",
   "language": "python",
   "name": "python3"
  },
  "language_info": {
   "codemirror_mode": {
    "name": "ipython",
    "version": 3
   },
   "file_extension": ".py",
   "mimetype": "text/x-python",
   "name": "python",
   "nbconvert_exporter": "python",
   "pygments_lexer": "ipython3",
   "version": "3.7.4"
  }
 },
 "nbformat": 4,
 "nbformat_minor": 4
}
